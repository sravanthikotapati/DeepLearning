{
 "cells": [
  {
   "cell_type": "code",
   "execution_count": 2,
   "id": "a3c4832b-0287-463d-bc88-51f2694c4458",
   "metadata": {},
   "outputs": [
    {
     "name": "stdout",
     "output_type": "stream",
     "text": [
      "(2, 3)\n",
      "tf.Tensor(\n",
      "[[1. 1. 1.]\n",
      " [1. 1. 1.]\n",
      " [1. 1. 1.]], shape=(3, 3), dtype=float32)\n",
      "tf.Tensor(\n",
      "[[0. 0. 0.]\n",
      " [0. 0. 0.]], shape=(2, 3), dtype=float32)\n",
      "tf.Tensor(\n",
      "[[1. 0. 0.]\n",
      " [0. 1. 0.]\n",
      " [0. 0. 1.]], shape=(3, 3), dtype=float32)\n"
     ]
    }
   ],
   "source": [
    "import os\n",
    "os.environ['TF_CPP_MIN_LOG_LEVEL']='2'\n",
    "import tensorflow as tf\n",
    "x=tf.constant(4.0)\n",
    "x-tf.constant(4,shape=(1,1),dtype=tf.float32)\n",
    "y=tf.constant([[1,2,3],[4,5,6]])\n",
    "print(y.shape)\n",
    "x=tf.ones((3,3))\n",
    "print(x)\n",
    "x=tf.zeros((2,3)) #create matrix with all zeros\n",
    "print(x)\n",
    "x=tf.eye(3) #Identity matrix\n",
    "print(x)"
   ]
  },
  {
   "cell_type": "code",
   "execution_count": 3,
   "id": "4aa1097a-356e-4c30-9260-bf699a58abbf",
   "metadata": {},
   "outputs": [
    {
     "name": "stdout",
     "output_type": "stream",
     "text": [
      "tf.Tensor(\n",
      "[[-1.5577892  -1.1007742   2.3631928 ]\n",
      " [-1.9811978  -0.53216964  0.3814689 ]\n",
      " [-0.17885514  0.57675385 -0.5973122 ]], shape=(3, 3), dtype=float32)\n"
     ]
    }
   ],
   "source": [
    "x=tf.random.normal((3,3),mean=0,stddev=1)\n",
    "print(x)"
   ]
  },
  {
   "cell_type": "code",
   "execution_count": 4,
   "id": "1c1b4c02-988a-43b2-8080-cf208c48cdcf",
   "metadata": {},
   "outputs": [
    {
     "name": "stdout",
     "output_type": "stream",
     "text": [
      "tf.Tensor([0 1 2 3 4 5 6 7 8], shape=(9,), dtype=int32)\n"
     ]
    }
   ],
   "source": [
    "x=tf.range(9)\n",
    "print(x)"
   ]
  },
  {
   "cell_type": "code",
   "execution_count": 5,
   "id": "477e20b6-f600-4d68-b49a-8317bc8a1461",
   "metadata": {},
   "outputs": [
    {
     "name": "stdout",
     "output_type": "stream",
     "text": [
      "tf.Tensor([1 3 5 7 9], shape=(5,), dtype=int32)\n"
     ]
    }
   ],
   "source": [
    "x=tf.range(start=1,limit=10,delta=2)\n",
    "print(x)"
   ]
  },
  {
   "cell_type": "code",
   "execution_count": 6,
   "id": "a902705b-82a1-4679-a4c0-765f1698a389",
   "metadata": {},
   "outputs": [
    {
     "name": "stdout",
     "output_type": "stream",
     "text": [
      "tf.Tensor(4.5, shape=(), dtype=float64)\n"
     ]
    }
   ],
   "source": [
    "x=4.5\n",
    "y=tf.cast(x,dtype=tf.float64)\n",
    "print(y)"
   ]
  },
  {
   "cell_type": "code",
   "execution_count": 7,
   "id": "3ea07389-65d4-40e4-888b-4ec36ab9506a",
   "metadata": {},
   "outputs": [],
   "source": [
    "#mathematical operations"
   ]
  },
  {
   "cell_type": "code",
   "execution_count": 8,
   "id": "c94344bf-5dee-42db-909e-a23d8733fb0d",
   "metadata": {},
   "outputs": [
    {
     "name": "stdout",
     "output_type": "stream",
     "text": [
      "tf.Tensor([10 10 10], shape=(3,), dtype=int32)\n"
     ]
    }
   ],
   "source": [
    "x=tf.constant([1,2,3])\n",
    "y=tf.constant([9,8,7])\n",
    "z=tf.add(x,y)\n",
    "print(z)"
   ]
  },
  {
   "cell_type": "code",
   "execution_count": 9,
   "id": "5b6c87dc-1732-4328-84d8-a96725970fea",
   "metadata": {},
   "outputs": [
    {
     "name": "stdout",
     "output_type": "stream",
     "text": [
      "tf.Tensor([-8 -6 -4], shape=(3,), dtype=int32)\n"
     ]
    }
   ],
   "source": [
    "z1=tf.subtract(x,y)\n",
    "print(z1)"
   ]
  },
  {
   "cell_type": "code",
   "execution_count": 10,
   "id": "3a298d33-8b0f-430a-8462-493772976841",
   "metadata": {},
   "outputs": [
    {
     "name": "stdout",
     "output_type": "stream",
     "text": [
      "tf.Tensor([0.11111111 0.25       0.42857143], shape=(3,), dtype=float64)\n"
     ]
    }
   ],
   "source": [
    "z2=tf.divide(x,y)\n",
    "print(z2)"
   ]
  },
  {
   "cell_type": "code",
   "execution_count": 11,
   "id": "1031d32a-b503-4f4c-85be-67c8561d7c67",
   "metadata": {},
   "outputs": [
    {
     "name": "stdout",
     "output_type": "stream",
     "text": [
      "tf.Tensor(46, shape=(), dtype=int32)\n"
     ]
    }
   ],
   "source": [
    "z3=tf.tensordot(x,y,axes=1)\n",
    "print(z3)"
   ]
  },
  {
   "cell_type": "code",
   "execution_count": 12,
   "id": "04ba8e9e-2e5f-4e58-8255-a02e5a1a155f",
   "metadata": {},
   "outputs": [
    {
     "name": "stdout",
     "output_type": "stream",
     "text": [
      "tf.Tensor(\n",
      "[[ 1.6956962   0.2409151   0.92257744]\n",
      " [ 0.08149326 -1.2125518   2.288515  ]], shape=(2, 3), dtype=float32)\n",
      "tf.Tensor(\n",
      "[[-0.529961   -1.219475   -0.00287996 -0.2536661 ]\n",
      " [-0.25023597 -1.7429425   0.44790742  0.85308015]\n",
      " [-1.8667113  -0.01719397  0.61115646  0.64613956]], shape=(3, 4), dtype=float32)\n",
      "tf.Tensor(\n",
      "[[-2.6811242  -2.503623    0.66686326  0.37149304]\n",
      " [-4.011761    1.9746804   0.85529506  0.42362416]], shape=(2, 4), dtype=float32)\n"
     ]
    }
   ],
   "source": [
    "#matrix multiplication\n",
    "x1=tf.random.normal((2,3))\n",
    "x2=tf.random.normal((3,4))\n",
    "print(x1)\n",
    "print(x2)\n",
    "z4=tf.matmul(x1,x2)\n",
    "print(z4)"
   ]
  },
  {
   "cell_type": "code",
   "execution_count": null,
   "id": "21565b11-0004-44a7-9e06-79e885eda892",
   "metadata": {},
   "outputs": [],
   "source": []
  },
  {
   "cell_type": "code",
   "execution_count": 13,
   "id": "b8a0fba2-93bd-4834-9c7e-94436cb05fd5",
   "metadata": {},
   "outputs": [
    {
     "name": "stdout",
     "output_type": "stream",
     "text": [
      "[ 0  1  1  2  3  5  8 13 21 34]\n"
     ]
    }
   ],
   "source": [
    "a=tf.constant([0,1,1,2,3,5,8,13,21,34])\n",
    "print(a.numpy())"
   ]
  },
  {
   "cell_type": "code",
   "execution_count": 14,
   "id": "ff9730f8-e0b1-49cf-8dec-33ef8858ada5",
   "metadata": {},
   "outputs": [
    {
     "name": "stdout",
     "output_type": "stream",
     "text": [
      "First: 0\n",
      "Second: 1\n",
      "Last: 34\n",
      "Everything: [ 0  1  1  2  3  5  8 13 21 34]\n",
      "Before 4: [0 1 1 2]\n",
      "From 4 to the end: [ 3  5  8 13 21 34]\n",
      "From 2,before 7: [1 2 3 5 8]\n",
      "Every other item: [ 0  1  3  8 21]\n",
      "Reversed: [34 21 13  8  5  3  2  1  1  0]\n"
     ]
    }
   ],
   "source": [
    "print(\"First:\",a[0].numpy())\n",
    "print(\"Second:\",a[1].numpy())\n",
    "print(\"Last:\",a[-1].numpy())\n",
    "print(\"Everything:\",a[:].numpy())\n",
    "print(\"Before 4:\",a[:4].numpy())\n",
    "print(\"From 4 to the end:\",a[4:].numpy())\n",
    "print(\"From 2,before 7:\",a[2:7].numpy())\n",
    "print(\"Every other item:\",a[::2].numpy())\n",
    "print(\"Reversed:\",a[::-1].numpy())\n"
   ]
  },
  {
   "cell_type": "code",
   "execution_count": null,
   "id": "ffd70b70-b1dc-4ec8-8e0d-f25315b56270",
   "metadata": {},
   "outputs": [],
   "source": []
  },
  {
   "cell_type": "code",
   "execution_count": null,
   "id": "37e50e9b-add1-4a39-9a1b-cdde9db4e07c",
   "metadata": {},
   "outputs": [],
   "source": []
  },
  {
   "cell_type": "code",
   "execution_count": 15,
   "id": "cccd1876-adcb-4cf5-a67b-0227149a8363",
   "metadata": {},
   "outputs": [
    {
     "name": "stdout",
     "output_type": "stream",
     "text": [
      "[[1. 2.]\n",
      " [3. 4.]\n",
      " [5. 6.]]\n"
     ]
    }
   ],
   "source": [
    "b=tf.constant([[1, 2],\n",
    "               [3, 4],\n",
    "               [5, 6]], dtype=tf.float16)\n",
    "\n",
    "print(b.numpy())\n"
   ]
  },
  {
   "cell_type": "code",
   "execution_count": 16,
   "id": "15c1fcba-ccc7-4f35-a837-949e4b0a418d",
   "metadata": {},
   "outputs": [
    {
     "name": "stdout",
     "output_type": "stream",
     "text": [
      "4.0\n"
     ]
    }
   ],
   "source": [
    "print(b[1, 1].numpy())\n"
   ]
  },
  {
   "cell_type": "code",
   "execution_count": 17,
   "id": "289bab6b-528a-41b7-9cff-2039b9516f2b",
   "metadata": {},
   "outputs": [
    {
     "name": "stdout",
     "output_type": "stream",
     "text": [
      "Second row: [3. 4.]\n",
      "Second column: [2. 4. 6.]\n",
      "Last row: [5. 6.]\n",
      "First item in last column: 2.0\n",
      "Skip the first row:\n",
      "[[3. 4.]\n",
      " [5. 6.]] \n",
      "\n"
     ]
    }
   ],
   "source": [
    "print(\"Second row:\",b[1, :].numpy())\n",
    "print(\"Second column:\",b[:, 1].numpy())\n",
    "print(\"Last row:\",b[-1, :].numpy())\n",
    "print(\"First item in last column:\",b[0, -1].numpy())\n",
    "print(\"Skip the first row:\")\n",
    "print(b[1:, :].numpy(), \"\\n\")"
   ]
  },
  {
   "cell_type": "code",
   "execution_count": 18,
   "id": "6ecbb36d-f53e-41ad-9fde-30c5dceb5d43",
   "metadata": {},
   "outputs": [
    {
     "name": "stdout",
     "output_type": "stream",
     "text": [
      "(3, 1)\n",
      "[3, 1]\n"
     ]
    }
   ],
   "source": [
    "x=tf.constant([[1],[2],[3]])\n",
    "print(x.shape)\n",
    "print(x.shape.as_list())"
   ]
  },
  {
   "cell_type": "code",
   "execution_count": 19,
   "id": "afea4091-9eb0-4817-a4b2-10bcd9a816ab",
   "metadata": {},
   "outputs": [
    {
     "name": "stdout",
     "output_type": "stream",
     "text": [
      "tf.Tensor([2 4 6], shape=(3,), dtype=int32)\n",
      "tf.Tensor([2 4 6], shape=(3,), dtype=int32)\n",
      "tf.Tensor([2 4 6], shape=(3,), dtype=int32)\n"
     ]
    }
   ],
   "source": [
    "x = tf.constant([1, 2, 3])\n",
    "y = tf.constant(2)\n",
    "z = tf.constant([2, 2, 2])\n",
    "print(tf.multiply(x, 2))\n",
    "print(x * y)\n",
    "print(x * z)"
   ]
  },
  {
   "cell_type": "code",
   "execution_count": 20,
   "id": "98db79c0-680e-471c-9b47-8173a67667c7",
   "metadata": {},
   "outputs": [
    {
     "name": "stdout",
     "output_type": "stream",
     "text": [
      "tf.Tensor(\n",
      "[[1]\n",
      " [2]\n",
      " [3]], shape=(3, 1), dtype=int32) \n",
      "\n",
      "tf.Tensor([1 2 3 4], shape=(4,), dtype=int32) \n",
      "\n",
      "tf.Tensor(\n",
      "[[ 1  2  3  4]\n",
      " [ 2  4  6  8]\n",
      " [ 3  6  9 12]], shape=(3, 4), dtype=int32)\n"
     ]
    }
   ],
   "source": [
    "x = tf.reshape(x,[3,1])\n",
    "y = tf.range(1, 5)\n",
    "print(x, \"\\n\")\n",
    "print(y, \"\\n\")\n",
    "print(tf.multiply(x, y))"
   ]
  },
  {
   "cell_type": "code",
   "execution_count": 21,
   "id": "090ccaa8-0ba8-4812-b51b-c34d63ad4b61",
   "metadata": {},
   "outputs": [
    {
     "name": "stdout",
     "output_type": "stream",
     "text": [
      "tf.Tensor(\n",
      "[[1 2 3]\n",
      " [1 2 3]\n",
      " [1 2 3]], shape=(3, 3), dtype=int32)\n"
     ]
    }
   ],
   "source": [
    "print(tf.broadcast_to(tf.constant([1, 2, 3]), [3, 3]))"
   ]
  },
  {
   "cell_type": "code",
   "execution_count": null,
   "id": "89412fca-d7bf-499e-abb3-59630552bd3f",
   "metadata": {},
   "outputs": [],
   "source": []
  },
  {
   "cell_type": "code",
   "execution_count": 22,
   "id": "f647ab88-f0ad-4bea-842f-caaf12790273",
   "metadata": {},
   "outputs": [],
   "source": [
    "ragged_list = [\n",
    "    [0, 1, 2, 3],\n",
    "    [4, 5],\n",
    "    [6, 7, 8],\n",
    "    [9]]"
   ]
  },
  {
   "cell_type": "code",
   "execution_count": 23,
   "id": "897f8286-c28b-403e-816f-ffebb7262ea9",
   "metadata": {},
   "outputs": [
    {
     "name": "stdout",
     "output_type": "stream",
     "text": [
      "<tf.RaggedTensor [[0, 1, 2, 3], [4, 5], [6, 7, 8], [9]]>\n",
      "(4, None)\n"
     ]
    }
   ],
   "source": [
    "ragged_tensor = tf.ragged.constant(ragged_list)\n",
    "print(ragged_tensor)\n",
    "print(ragged_tensor.shape)"
   ]
  },
  {
   "cell_type": "code",
   "execution_count": 24,
   "id": "147fdd0c-0c06-4b6e-a0c5-9e00d6d6b306",
   "metadata": {},
   "outputs": [
    {
     "name": "stdout",
     "output_type": "stream",
     "text": [
      "SparseTensor(indices=tf.Tensor(\n",
      "[[0 0]\n",
      " [1 2]], shape=(2, 2), dtype=int64), values=tf.Tensor([1 2], shape=(2,), dtype=int32), dense_shape=tf.Tensor([3 4], shape=(2,), dtype=int64)) \n",
      "\n",
      "tf.Tensor(\n",
      "[[1 0 0 0]\n",
      " [0 0 2 0]\n",
      " [0 0 0 0]], shape=(3, 4), dtype=int32)\n"
     ]
    }
   ],
   "source": [
    "sparse_tensor = tf.sparse.SparseTensor(indices=[[0, 0], [1, 2]],\n",
    "                                       values=[1, 2],\n",
    "                                       dense_shape=[3, 4])\n",
    "print(sparse_tensor, \"\\n\")\n",
    "print(tf.sparse.to_dense(sparse_tensor))\n"
   ]
  },
  {
   "cell_type": "code",
   "execution_count": null,
   "id": "95e72f16-a4e4-4695-ab4f-4ca2720204d3",
   "metadata": {},
   "outputs": [],
   "source": []
  }
 ],
 "metadata": {
  "kernelspec": {
   "display_name": "Python 3 (ipykernel)",
   "language": "python",
   "name": "python3"
  },
  "language_info": {
   "codemirror_mode": {
    "name": "ipython",
    "version": 3
   },
   "file_extension": ".py",
   "mimetype": "text/x-python",
   "name": "python",
   "nbconvert_exporter": "python",
   "pygments_lexer": "ipython3",
   "version": "3.8.10"
  }
 },
 "nbformat": 4,
 "nbformat_minor": 5
}
