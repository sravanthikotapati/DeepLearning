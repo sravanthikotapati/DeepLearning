{
 "cells": [
  {
   "cell_type": "code",
   "execution_count": 3,
   "id": "fd4f18c9",
   "metadata": {},
   "outputs": [
    {
     "name": "stdout",
     "output_type": "stream",
     "text": [
      "Result: [[-4. ]\n",
      " [ 4.5]]\n"
     ]
    }
   ],
   "source": [
    "import numpy as np\n",
    "# Create a matrix\n",
    "A = np.array([[1, 2], [3, 4]])\n",
    "# Inverse of a matrix\n",
    "A_inv = np.linalg.inv(A)\n",
    "# Matrix multiplication\n",
    "B = np.array([[5], [6]])\n",
    "result = np.dot(A_inv, B)\n",
    "\n",
    "print(\"Result:\", result)\n"
   ]
  },
  {
   "cell_type": "code",
   "execution_count": 2,
   "id": "218417b9",
   "metadata": {},
   "outputs": [
    {
     "name": "stdout",
     "output_type": "stream",
     "text": [
      "Result: [-4.   4.5]\n"
     ]
    }
   ],
   "source": [
    "from scipy.linalg import solve\n",
    "\n",
    "# Create a matrix\n",
    "A = np.array([[1, 2], [3, 4]])\n",
    "\n",
    "# Solve a linear system of equations\n",
    "B = np.array([5, 6])\n",
    "result = solve(A, B)\n",
    "\n",
    "print(\"Result:\", result)\n"
   ]
  },
  {
   "cell_type": "code",
   "execution_count": 4,
   "id": "c11c82aa",
   "metadata": {},
   "outputs": [
    {
     "name": "stdout",
     "output_type": "stream",
     "text": [
      "[ 2.20833333 -2.58333333 -0.18333333]\n",
      "[ 2.20833333 -2.58333333 -0.18333333]\n",
      "P:\n",
      " [[0. 0. 1.]\n",
      " [0. 1. 0.]\n",
      " [1. 0. 0.]]\n",
      "L:\n",
      " [[ 1.    0.    0.  ]\n",
      " [-0.25  1.    0.  ]\n",
      " [ 0.5   0.5   1.  ]]\n",
      "U:\n",
      " [[ 8.   8.   0. ]\n",
      " [ 0.  -2.   5. ]\n",
      " [ 0.   0.  -7.5]]\n",
      "LU:\n",
      " [[ 8.  8.  0.]\n",
      " [-2. -4.  5.]\n",
      " [ 4.  3. -5.]]\n",
      "[[ 8.  8.  0.]\n",
      " [-2. -4.  5.]\n",
      " [ 4.  3. -5.]]\n"
     ]
    }
   ],
   "source": [
    "import numpy as np\n",
    "\n",
    "A = np.array([[4, 3, -5], \n",
    "              [-2, -4, 5], \n",
    "              [8, 8, 0]])\n",
    "y = np.array([2, 5, -3])\n",
    "\n",
    "x = np.linalg.solve(A, y)\n",
    "print(x)\n",
    "A_inv = np.linalg.inv(A)\n",
    "\n",
    "x = np.dot(A_inv, y)\n",
    "print(x)\n",
    "from scipy.linalg import lu\n",
    "\n",
    "P, L, U = lu(A)\n",
    "print('P:\\n', P)\n",
    "print('L:\\n', L)\n",
    "print('U:\\n', U)\n",
    "print('LU:\\n',np.dot(L, U))\n",
    "print(np.dot(P, A))"
   ]
  },
  {
   "cell_type": "code",
   "execution_count": 14,
   "id": "b5f96402",
   "metadata": {},
   "outputs": [
    {
     "name": "stdout",
     "output_type": "stream",
     "text": [
      "Solution: [-inf  inf   1.]\n"
     ]
    },
    {
     "name": "stderr",
     "output_type": "stream",
     "text": [
      "C:\\Users\\kotap\\AppData\\Local\\Temp\\ipykernel_19004\\1555840458.py:13: RuntimeWarning: divide by zero encountered in scalar divide\n",
      "  ratio = augmented[j, i] / pivot\n",
      "C:\\Users\\kotap\\AppData\\Local\\Temp\\ipykernel_19004\\1555840458.py:14: RuntimeWarning: invalid value encountered in multiply\n",
      "  augmented[j] =augmented[j]- ratio * augmented[i]\n",
      "C:\\Users\\kotap\\AppData\\Local\\Temp\\ipykernel_19004\\1555840458.py:14: RuntimeWarning: invalid value encountered in cast\n",
      "  augmented[j] =augmented[j]- ratio * augmented[i]\n",
      "C:\\Users\\kotap\\AppData\\Local\\Temp\\ipykernel_19004\\1555840458.py:19: RuntimeWarning: divide by zero encountered in scalar divide\n",
      "  x[i] = (augmented[i, -1] - np.dot(augmented[i, :-1], x)) / augmented[i, i]\n"
     ]
    }
   ],
   "source": [
    "import numpy as np\n",
    "\n",
    "def gaussian_elimination(A, B):\n",
    "    n = len(A)\n",
    "    # Augment the matrix\n",
    "    augmented = np.concatenate((A, B.reshape(-1, 1)), axis=1)\n",
    "    \n",
    "    for i in range(n):\n",
    "        # Pivot for the current column\n",
    "        pivot = augmented[i, i]\n",
    "        # Elimination step\n",
    "        for j in range(i+1, n):\n",
    "            ratio = augmented[j, i] / pivot\n",
    "            augmented[j] =augmented[j]- ratio * augmented[i]\n",
    "    \n",
    "    # Back substitution\n",
    "    x = np.zeros(n)\n",
    "    for i in range(n-1, -1, -1):\n",
    "        x[i] = (augmented[i, -1] - np.dot(augmented[i, :-1], x)) / augmented[i, i]\n",
    "    \n",
    "    return x\n",
    "\n",
    "# Example usage\n",
    "A = np.array([[2, 1, -1],\n",
    "              [-3, -1, 2],\n",
    "              [-2, 1, 2]])\n",
    "B = np.array([8, -11, -3])\n",
    "solution = gaussian_elimination(A, B)\n",
    "print(\"Solution:\", solution)\n"
   ]
  },
  {
   "cell_type": "code",
   "execution_count": 15,
   "id": "5118cdce",
   "metadata": {},
   "outputs": [
    {
     "name": "stdout",
     "output_type": "stream",
     "text": [
      "Solution: [ 2.  3. -1.]\n"
     ]
    }
   ],
   "source": [
    "from scipy.linalg import lu_factor, lu_solve\n",
    "\n",
    "# Example usage\n",
    "A = np.array([[2, 1, -1],\n",
    "              [-3, -1, 2],\n",
    "              [-2, 1, 2]])\n",
    "B = np.array([8, -11, -3])\n",
    "\n",
    "# LU decomposition\n",
    "LU, piv = lu_factor(A)\n",
    "solution = lu_solve((LU, piv), B)\n",
    "print(\"Solution:\", solution)"
   ]
  },
  {
   "cell_type": "code",
   "execution_count": 16,
   "id": "7fbfc648",
   "metadata": {},
   "outputs": [
    {
     "name": "stdout",
     "output_type": "stream",
     "text": [
      "Eigenvalues: [1.38196601 3.61803399]\n",
      "Eigenvectors: [[-0.85065081  0.52573111]\n",
      " [-0.52573111 -0.85065081]]\n"
     ]
    }
   ],
   "source": [
    "from numpy.linalg import eig\n",
    "\n",
    "# Example usage\n",
    "A = np.array([[2, -1],\n",
    "              [-1, 3]])\n",
    "\n",
    "eigenvalues, eigenvectors = eig(A)\n",
    "print(\"Eigenvalues:\", eigenvalues)\n",
    "print(\"Eigenvectors:\", eigenvectors)"
   ]
  },
  {
   "cell_type": "code",
   "execution_count": 7,
   "id": "3804bece",
   "metadata": {},
   "outputs": [
    {
     "name": "stdout",
     "output_type": "stream",
     "text": [
      "Original matrix:\n",
      "[[1 2]\n",
      " [3 4]]\n",
      "\n",
      "Inverse matrix:\n",
      "[[-2.   1. ]\n",
      " [ 1.5 -0.5]]\n"
     ]
    }
   ],
   "source": [
    "import numpy as np\n",
    "\n",
    "# Define a matrix\n",
    "A = np.array([[1, 2], [3, 4]])\n",
    "\n",
    "# Calculate the inverse of the matrix\n",
    "A_inv = np.linalg.inv(A)\n",
    "\n",
    "print(\"Original matrix:\")\n",
    "print(A)\n",
    "print(\"\\nInverse matrix:\")\n",
    "print(A_inv)"
   ]
  },
  {
   "cell_type": "code",
   "execution_count": 21,
   "id": "09435b1b",
   "metadata": {},
   "outputs": [
    {
     "name": "stdout",
     "output_type": "stream",
     "text": [
      "Matrix A:\n",
      "[[1 2]\n",
      " [3 4]]\n",
      "\n",
      "Matrix B:\n",
      "[[5 6]\n",
      " [7 8]]\n",
      "\n",
      "Result:\n",
      "[[19 22]\n",
      " [43 50]]\n"
     ]
    }
   ],
   "source": [
    "import numpy as np\n",
    "\n",
    "# Define two matrices\n",
    "A = np.array([[1, 2], [3, 4]])\n",
    "B = np.array([[5, 6], [7, 8]])\n",
    "\n",
    "# Perform matrix multiplication\n",
    "C = np.dot(A, B)  # Alternatively, you can use np.matmul(A, B)\n",
    "\n",
    "print(\"Matrix A:\")\n",
    "print(A)\n",
    "print(\"\\nMatrix B:\")\n",
    "print(B)\n",
    "print(\"\\nResult:\")\n",
    "print(C)"
   ]
  },
  {
   "cell_type": "code",
   "execution_count": 9,
   "id": "19eb44d9",
   "metadata": {},
   "outputs": [
    {
     "name": "stdout",
     "output_type": "stream",
     "text": [
      "Eigenvalues: [1.38196601 3.61803399]\n",
      "Eigenvectors:\n",
      "Eigenvalue: 1.381966011250105\n",
      "Eigenvector: [-0.85065081 -0.52573111]\n",
      "\n",
      "Eigenvalue: 3.618033988749895\n",
      "Eigenvector: [ 0.52573111 -0.85065081]\n",
      "\n"
     ]
    }
   ],
   "source": [
    "import numpy as np\n",
    "\n",
    "# Define a matrix\n",
    "A = np.array([[2, -1], [-1, 3]])\n",
    "\n",
    "# Compute eigenvalues and eigenvectors\n",
    "eigenvalues, eigenvectors = np.linalg.eig(A)\n",
    "\n",
    "print(\"Eigenvalues:\", eigenvalues)\n",
    "print(\"Eigenvectors:\")\n",
    "for i in range(len(eigenvalues)):\n",
    "    print(\"Eigenvalue:\", eigenvalues[i])\n",
    "    print(\"Eigenvector:\", eigenvectors[:, i])\n",
    "    print()"
   ]
  },
  {
   "cell_type": "code",
   "execution_count": 25,
   "id": "69ae48bb",
   "metadata": {},
   "outputs": [
    {
     "name": "stdout",
     "output_type": "stream",
     "text": [
      "addition :\n",
      "[[ 8 10]\n",
      " [13 15]]\n",
      "subtraction:\n",
      "[[-6 -6]\n",
      " [-5 -5]]\n",
      "division:\n",
      "[[0.14285714 0.25      ]\n",
      " [0.44444444 0.5       ]]\n",
      "multiplication : \n",
      "[[ 7 16]\n",
      " [36 50]]\n",
      " product:\n",
      "[[25 28]\n",
      " [73 82]]\n"
     ]
    }
   ],
   "source": [
    "# importing numpy for matrix operations \n",
    "import numpy \n",
    "x = numpy.array([[1, 2], [4, 5]]) \n",
    "y = numpy.array([[7, 8], [9, 10]]) \n",
    "print (\"addition :\")\n",
    "print(numpy.add(x,y)) \n",
    "print (\"subtraction:\") \n",
    "print (numpy.subtract(x,y)) \n",
    "print (\"division:\") \n",
    "print (numpy.divide(x,y)) \n",
    "print (\"multiplication : \") \n",
    "print (numpy.multiply(x,y))    \n",
    "print (\" product:\") \n",
    "print (numpy.dot(x,y)) "
   ]
  },
  {
   "cell_type": "code",
   "execution_count": null,
   "id": "6d60f4ae",
   "metadata": {},
   "outputs": [],
   "source": []
  }
 ],
 "metadata": {
  "kernelspec": {
   "display_name": "Python 3 (ipykernel)",
   "language": "python",
   "name": "python3"
  },
  "language_info": {
   "codemirror_mode": {
    "name": "ipython",
    "version": 3
   },
   "file_extension": ".py",
   "mimetype": "text/x-python",
   "name": "python",
   "nbconvert_exporter": "python",
   "pygments_lexer": "ipython3",
   "version": "3.11.3"
  }
 },
 "nbformat": 4,
 "nbformat_minor": 5
}
