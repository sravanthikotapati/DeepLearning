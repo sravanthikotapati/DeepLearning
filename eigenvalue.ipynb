{
 "cells": [
  {
   "cell_type": "code",
   "execution_count": 1,
   "id": "18abf17f",
   "metadata": {},
   "outputs": [
    {
     "name": "stdout",
     "output_type": "stream",
     "text": [
      "Original matrix:\n",
      "[[ 0.90971974 -0.15761055 -1.60681888]\n",
      " [-0.64123     0.90117189 -1.34341184]\n",
      " [ 0.35110955 -0.14705473 -0.05305208]\n",
      " [ 0.36462802 -1.01055907  0.38835173]\n",
      " [ 0.97548954  0.13729756  0.34106153]]\n",
      "\n",
      "Left singular vectors (U):\n",
      "[[ 0.58143824 -0.74225249 -0.13849024 -0.29920199  0.04784811]\n",
      " [ 0.72077993  0.33088152  0.00824163  0.59604334  0.12513244]\n",
      " [-0.01836377 -0.21816709  0.0529912   0.33468137 -0.91501159]\n",
      " [-0.34394441 -0.3755809  -0.57903318  0.57505865  0.27325693]\n",
      " [-0.15417806 -0.38848523  0.80166392  0.3354198   0.26483367]]\n",
      "\n",
      "Singular values:\n",
      "[2.27858301 1.73785371 0.88867053]\n",
      "\n",
      "Right singular vectors (V^T):\n",
      "[[-0.09457563  0.38928324 -0.91624997]\n",
      " [-0.85158148  0.44506569  0.2769937 ]\n",
      " [ 0.51562043  0.80645837  0.28941403]]\n"
     ]
    }
   ],
   "source": [
    "import numpy as np\n",
    "\n",
    "# Generate a random matrix\n",
    "A = np.random.randn(5, 3)\n",
    "\n",
    "# Perform Singular Value Decomposition (SVD)\n",
    "U, S, Vt = np.linalg.svd(A)\n",
    "\n",
    "print(\"Original matrix:\")\n",
    "print(A)\n",
    "print(\"\\nLeft singular vectors (U):\")\n",
    "print(U)\n",
    "print(\"\\nSingular values:\")\n",
    "print(S)\n",
    "print(\"\\nRight singular vectors (V^T):\")\n",
    "print(Vt)"
   ]
  },
  {
   "cell_type": "code",
   "execution_count": 3,
   "id": "9f8872a0",
   "metadata": {},
   "outputs": [
    {
     "name": "stdout",
     "output_type": "stream",
     "text": [
      "Left Singular Vectors (U):\n",
      "[[-0.21483724  0.88723069  0.40824829]\n",
      " [-0.52058739  0.24964395 -0.81649658]\n",
      " [-0.82633754 -0.38794278  0.40824829]]\n",
      "\n",
      "Singular Values (S):\n",
      "[[1.68481034e+01 0.00000000e+00 0.00000000e+00]\n",
      " [0.00000000e+00 1.06836951e+00 0.00000000e+00]\n",
      " [0.00000000e+00 0.00000000e+00 3.33475287e-16]]\n",
      "\n",
      "Right Singular Vectors (VT):\n",
      "[[-0.47967118 -0.57236779 -0.66506441]\n",
      " [-0.77669099 -0.07568647  0.62531805]\n",
      " [-0.40824829  0.81649658 -0.40824829]]\n"
     ]
    }
   ],
   "source": [
    "import numpy as np\n",
    "\n",
    "# Define a sample matrix\n",
    "A = np.array([[1, 2, 3],\n",
    "              [4, 5, 6],\n",
    "              [7, 8, 9]])\n",
    "\n",
    "# Perform SVD\n",
    "U, S, VT = np.linalg.svd(A)\n",
    "\n",
    "# U, S, and VT contain the left singular vectors, singular values, and right singular vectors respectively\n",
    "\n",
    "print(\"Left Singular Vectors (U):\")\n",
    "print(U)\n",
    "print()\n",
    "\n",
    "print(\"Singular Values (S):\")\n",
    "print(np.diag(S))  # Display as a diagonal matrix\n",
    "print()\n",
    "\n",
    "print(\"Right Singular Vectors (VT):\")\n",
    "print(VT)\n"
   ]
  },
  {
   "cell_type": "code",
   "execution_count": 5,
   "id": "04df10d8",
   "metadata": {},
   "outputs": [
    {
     "name": "stdout",
     "output_type": "stream",
     "text": [
      "Left Singular Vectors (U):\n",
      "[[-0.06161685  0.12961144  0.0021386  ... -0.09343429 -0.09573864\n",
      "  -0.08085465]\n",
      " [-0.05807094  0.11101978  0.07067239 ...  0.03690405 -0.03153954\n",
      "   0.01309526]\n",
      " [-0.05676305  0.11796647  0.00434255 ...  0.03066199  0.19531473\n",
      "   0.13569909]\n",
      " ...\n",
      " [-0.0940593  -0.0498297  -0.04144001 ...  0.98181631 -0.02194514\n",
      "  -0.00894446]\n",
      " [-0.09488961 -0.05610123 -0.21297821 ... -0.02155617  0.94178018\n",
      "  -0.02971961]\n",
      " [-0.08847836 -0.0515697  -0.09575285 ... -0.0086052  -0.03021088\n",
      "   0.9736599 ]]\n",
      "\n",
      "Singular Values (S):\n",
      "[[95.95991387  0.          0.          0.        ]\n",
      " [ 0.         17.76103366  0.          0.        ]\n",
      " [ 0.          0.          3.46093093  0.        ]\n",
      " [ 0.          0.          0.          1.88482631]]\n",
      "\n",
      "Right Singular Vectors (VT):\n",
      "[[-0.75110816 -0.38008617 -0.51300886 -0.16790754]\n",
      " [ 0.2841749   0.5467445  -0.70866455 -0.34367081]\n",
      " [ 0.50215472 -0.67524332 -0.05916621 -0.53701625]\n",
      " [ 0.32081425 -0.31725607 -0.48074507  0.75187165]]\n"
     ]
    }
   ],
   "source": [
    "import numpy as np\n",
    "from sklearn.datasets import load_iris\n",
    "\n",
    "# Load the Iris dataset\n",
    "iris = load_iris()\n",
    "X = iris.data  # Features\n",
    "y = iris.target  # Target\n",
    "\n",
    "# Perform Singular Value Decomposition\n",
    "U, S, VT = np.linalg.svd(X)\n",
    "\n",
    "# U, S, and VT contain the left singular vectors, singular values, and right singular vectors respectively\n",
    "\n",
    "print(\"Left Singular Vectors (U):\")\n",
    "print(U)\n",
    "print()\n",
    "\n",
    "print(\"Singular Values (S):\")\n",
    "print(np.diag(S))  # Display as a diagonal matrix\n",
    "print()\n",
    "\n",
    "print(\"Right Singular Vectors (VT):\")\n",
    "print(VT)"
   ]
  },
  {
   "cell_type": "code",
   "execution_count": 6,
   "id": "708f532f",
   "metadata": {},
   "outputs": [
    {
     "name": "stdout",
     "output_type": "stream",
     "text": [
      "Eigenvalues: [2.72139724 0.20384009 0.02798485 0.02081227]\n",
      "Eigenvectors: [[ 0.6418165   0.08701349 -0.74324018 -0.16761342]\n",
      " [ 0.3981236  -0.79997348  0.3209327  -0.31391437]\n",
      " [ 0.48063203  0.59168457  0.55819403 -0.32759984]\n",
      " [ 0.44560299 -0.04878989  0.18170212  0.87523817]]\n"
     ]
    }
   ],
   "source": [
    "import numpy as np\n",
    "\n",
    "# Generate a random symmetric matrix (for demonstration)\n",
    "n = 4\n",
    "A = np.random.rand(n, n)\n",
    "A = np.dot(A, A.transpose())  # Ensure A is symmetric\n",
    "\n",
    "# Perform eigenvalue decomposition\n",
    "eigenvalues, eigenvectors = np.linalg.eig(A)\n",
    "\n",
    "# Sort eigenvalues and eigenvectors in descending order\n",
    "sorted_indices = np.argsort(eigenvalues)[::-1]\n",
    "eigenvalues = eigenvalues[sorted_indices]\n",
    "eigenvectors = eigenvectors[:, sorted_indices]\n",
    "\n",
    "print(\"Eigenvalues:\", eigenvalues)\n",
    "print(\"Eigenvectors:\", eigenvectors)\n"
   ]
  },
  {
   "cell_type": "code",
   "execution_count": 7,
   "id": "38523898",
   "metadata": {},
   "outputs": [
    {
     "name": "stdout",
     "output_type": "stream",
     "text": [
      "Eigenvalues: [1.38196601 3.61803399]\n",
      "Eigenvectors:\n",
      "Eigenvalue: 1.381966011250105\n",
      "Eigenvector: [-0.85065081 -0.52573111]\n",
      "\n",
      "Eigenvalue: 3.618033988749895\n",
      "Eigenvector: [ 0.52573111 -0.85065081]\n",
      "\n"
     ]
    }
   ],
   "source": [
    "import numpy as np\n",
    "\n",
    "# Define a square matrix\n",
    "A = np.array([[2, -1], [-1, 3]])\n",
    "\n",
    "# Perform eigenvalue decomposition\n",
    "eigenvalues, eigenvectors = np.linalg.eig(A)\n",
    "\n",
    "print(\"Eigenvalues:\", eigenvalues)\n",
    "print(\"Eigenvectors:\")\n",
    "for i in range(len(eigenvalues)):\n",
    "    print(\"Eigenvalue:\", eigenvalues[i])\n",
    "    print(\"Eigenvector:\", eigenvectors[:, i])\n",
    "    print()"
   ]
  },
  {
   "cell_type": "code",
   "execution_count": 9,
   "id": "d192e840",
   "metadata": {},
   "outputs": [
    {
     "name": "stdout",
     "output_type": "stream",
     "text": [
      "Eigenvalues: [1.38196601 3.61803399]\n",
      "Eigenvectors: [[-0.85065081  0.52573111]\n",
      " [-0.52573111 -0.85065081]]\n"
     ]
    }
   ],
   "source": [
    "import numpy as np\n",
    "\n",
    "# Define a square matrix\n",
    "A = np.array([[2, -1], [-1, 3]])\n",
    "\n",
    "# Perform eigenvalue decomposition\n",
    "eigenvalues, eigenvectors = np.linalg.eig(A)\n",
    "\n",
    "print(\"Eigenvalues:\",eigenvalues)\n",
    "print(\"Eigenvectors:\",eigenvectors)"
   ]
  },
  {
   "cell_type": "code",
   "execution_count": null,
   "id": "62afbf0e",
   "metadata": {},
   "outputs": [],
   "source": []
  }
 ],
 "metadata": {
  "kernelspec": {
   "display_name": "Python 3 (ipykernel)",
   "language": "python",
   "name": "python3"
  },
  "language_info": {
   "codemirror_mode": {
    "name": "ipython",
    "version": 3
   },
   "file_extension": ".py",
   "mimetype": "text/x-python",
   "name": "python",
   "nbconvert_exporter": "python",
   "pygments_lexer": "ipython3",
   "version": "3.11.3"
  }
 },
 "nbformat": 4,
 "nbformat_minor": 5
}
